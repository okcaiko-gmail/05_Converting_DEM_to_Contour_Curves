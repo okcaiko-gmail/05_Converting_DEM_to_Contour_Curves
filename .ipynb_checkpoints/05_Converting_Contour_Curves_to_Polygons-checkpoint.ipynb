{
 "cells": [
  {
   "cell_type": "markdown",
   "metadata": {},
   "source": [
    "This notebook aims to show how easly we could convert a raster file into a polygon, extracting or reclassifying the raster to certain values before the conversion"
   ]
  },
  {
   "cell_type": "markdown",
   "metadata": {},
   "source": [
    "##### Import module"
   ]
  },
  {
   "cell_type": "code",
   "execution_count": 1,
   "metadata": {},
   "outputs": [],
   "source": [
    "import gdal"
   ]
  },
  {
   "cell_type": "markdown",
   "metadata": {},
   "source": [
    "##### Hint: To open a raster with gdal- just use that"
   ]
  },
  {
   "cell_type": "code",
   "execution_count": 2,
   "metadata": {},
   "outputs": [],
   "source": [
    "gdal_data = gdal.Open(r\"PAN_alt.tif\")\n",
    "gdal_band = gdal_data.GetRasterBand(1)\n"
   ]
  },
  {
   "cell_type": "markdown",
   "metadata": {},
   "source": [
    "##### Importing path"
   ]
  },
  {
   "cell_type": "code",
   "execution_count": 3,
   "metadata": {},
   "outputs": [],
   "source": [
    "path = r\"PAN_alt.tif\"\n",
    "out_file = path.replace(\".tif\", \"_recl.tif\")"
   ]
  },
  {
   "cell_type": "markdown",
   "metadata": {},
   "source": [
    "##### Cheking the polygonize options"
   ]
  },
  {
   "cell_type": "code",
   "execution_count": null,
   "metadata": {},
   "outputs": [],
   "source": [
    "!gdal_polygonize.py"
   ]
  },
  {
   "cell_type": "markdown",
   "metadata": {},
   "source": [
    "##### Checking the calculator utility"
   ]
  },
  {
   "cell_type": "code",
   "execution_count": 13,
   "metadata": {},
   "outputs": [
    {
     "name": "stdout",
     "output_type": "stream",
     "text": [
      "Usage: gdal_calc.py --calc=expression --outfile=out_filename [-A filename]\n",
      "                    [--A_band=n] [-B...-Z filename] [other_options]\n",
      "\n",
      "Options:\n",
      "  -h, --help            show this help message and exit\n",
      "  --calc=expression     calculation in gdalnumeric syntax using +-/* or any\n",
      "                        numpy array functions (i.e. log10())\n",
      "  -A filename           input gdal raster file, you can use any letter (A-Z)\n",
      "  --A_band=n            number of raster band for file A (default 1)\n",
      "  --outfile=filename    output file to generate or fill\n",
      "  --NoDataValue=value   output nodata value (default datatype specific value)\n",
      "  --type=datatype       output datatype, must be one of ['Byte', 'UInt16',\n",
      "                        'Int16', 'UInt32', 'Int32', 'Float32', 'Float64']\n",
      "  --format=gdal_format  GDAL format for output file\n",
      "  --creation-option=option, --co=option\n",
      "                        Passes a creation option to the output format driver.\n",
      "                        Multiple options may be listed. See format specific\n",
      "                        documentation for legal creation options for each\n",
      "                        format.\n",
      "  --allBands=[A-Z]      process all bands of given raster (A-Z)\n",
      "  --overwrite           overwrite output file if it already exists\n",
      "  --debug               print debugging information\n",
      "  --quiet               suppress progress messages\n"
     ]
    }
   ],
   "source": [
    "!gdal_calc.py"
   ]
  },
  {
   "cell_type": "markdown",
   "metadata": {},
   "source": [
    "#### Our try will be to use a basic raster calculation routine to calculate a new raster where the following values will replace some ranges in the digital elevation model"
   ]
  },
  {
   "cell_type": "markdown",
   "metadata": {},
   "source": [
    "1 = 0 - 1000\n",
    "\n",
    "2 = 1001 - 2000\n",
    "\n",
    "3 = 2001 - 3000\n",
    "\n",
    "4 = 3001 - 4000"
   ]
  },
  {
   "cell_type": "code",
   "execution_count": 36,
   "metadata": {},
   "outputs": [
    {
     "name": "stdout",
     "output_type": "stream",
     "text": [
      "0.. 1.. 3.. 4.. 6.. 7.. 9.. 11.. 12.. 14.. 15.. 17.. 19.. 20.. 22.. 23.. 25.. 26.. 28.. 30.. 31.. 33.. 34.. 36.. 38.. 39.. 41.. 42.. 44.. 46.. 47.. 49.. 50.. 52.. 53.. 55.. 57.. 58.. 60.. 61.. 63.. 65.. 66.. 68.. 69.. 71.. 73.. 74.. 76.. 77.. 79.. 80.. 82.. 84.. 85.. 87.. 88.. 90.. 92.. 93.. 95.. 96.. 98.. 100 - Done\n"
     ]
    }
   ],
   "source": [
    "!gdal_calc.py -A \"D:\\Projects\\GIS-and-Remote-Sensing-Analysis-master\\data\\contour_curves\\PAN_alt.tif\" --outfile PAN_alt.recl.tif --calc=\"(logical_and(0<A,A<=1000)*1) + (logical_and(1001<A, A<=2000)*2) + (logical_and(2001<A, A<=4000)*4)\" --NoDataValue=255"
   ]
  },
  {
   "cell_type": "code",
   "execution_count": 35,
   "metadata": {},
   "outputs": [
    {
     "name": "stderr",
     "output_type": "stream",
     "text": [
      "Der Befehl \"gdal_reclassify.py\" ist entweder falsch geschrieben oder\n",
      "konnte nicht gefunden werden.\n"
     ]
    }
   ],
   "source": [
    "!gdal_reclassify.py"
   ]
  },
  {
   "cell_type": "markdown",
   "metadata": {},
   "source": [
    "##### Visualizing the results"
   ]
  },
  {
   "cell_type": "code",
   "execution_count": 37,
   "metadata": {},
   "outputs": [
    {
     "name": "stdout",
     "output_type": "stream",
     "text": [
      "0...10...20...30...40...50...60...70...80...90...100 - done.\n"
     ]
    }
   ],
   "source": [
    "!gdal_polygonize.py \"D:\\Projects\\GIS-and-Remote-Sensing-Analysis-master\\notebooks\\PAN_alt.recl.tif\" -f \"ESRI Shapefile\" PAN_elev_range.shp "
   ]
  },
  {
   "cell_type": "code",
   "execution_count": 41,
   "metadata": {},
   "outputs": [],
   "source": [
    "import geopandas as gpd\n",
    "import matplotlib.pyplot as plt"
   ]
  },
  {
   "cell_type": "code",
   "execution_count": 61,
   "metadata": {},
   "outputs": [
    {
     "name": "stderr",
     "output_type": "stream",
     "text": [
      "C:\\Users\\Roger\\Anaconda3\\envs\\geoprocess\\lib\\site-packages\\matplotlib\\legend.py:798: UserWarning: Legend does not support 2 instances.\n",
      "A proxy artist may be used instead.\n",
      "See: http://matplotlib.org/users/legend_guide.html#creating-artists-specifically-for-adding-to-the-legend-aka-proxy-artists\n",
      "  \"aka-proxy-artists\".format(orig_handle)\n",
      "C:\\Users\\Roger\\Anaconda3\\envs\\geoprocess\\lib\\site-packages\\matplotlib\\legend.py:798: UserWarning: Legend does not support 1 instances.\n",
      "A proxy artist may be used instead.\n",
      "See: http://matplotlib.org/users/legend_guide.html#creating-artists-specifically-for-adding-to-the-legend-aka-proxy-artists\n",
      "  \"aka-proxy-artists\".format(orig_handle)\n",
      "C:\\Users\\Roger\\Anaconda3\\envs\\geoprocess\\lib\\site-packages\\matplotlib\\legend.py:798: UserWarning: Legend does not support 0 instances.\n",
      "A proxy artist may be used instead.\n",
      "See: http://matplotlib.org/users/legend_guide.html#creating-artists-specifically-for-adding-to-the-legend-aka-proxy-artists\n",
      "  \"aka-proxy-artists\".format(orig_handle)\n"
     ]
    },
    {
     "data": {
      "text/plain": [
       "<matplotlib.legend.Legend at 0xbd54f60>"
      ]
     },
     "execution_count": 61,
     "metadata": {},
     "output_type": "execute_result"
    },
    {
     "data": {
      "image/png": "[encoded data removed]",
      "text/plain": [
       "<Figure size 1440x1080 with 1 Axes>"
      ]
     },
     "metadata": {
      "needs_background": "light"
     },
     "output_type": "display_data"
    }
   ],
   "source": [
    "fig, ax = plt.subplots(1, figsize = (20, 15))\n",
    "ax.set_aspect('equal')\n",
    "shp = gpd.GeoDataFrame.from_file(r\"D:\\Projects\\GIS-and-Remote-Sensing-Analysis-master\\notebooks\\out.shp\")\n",
    "shp.plot(ax=ax, color='white', edgecolor='black', cmap = \"jet\")\n",
    "plt.legend(shp[\"DN\"], [\"a\", \"b\", \"c\"])"
   ]
  },
  {
   "cell_type": "code",
   "execution_count": 39,
   "metadata": {},
   "outputs": [
    {
     "data": {
      "text/html": [
       "<div>\n",
       "<style scoped>\n",
       "    .dataframe tbody tr th:only-of-type {\n",
       "        vertical-align: middle;\n",
       "    }\n",
       "\n",
       "    .dataframe tbody tr th {\n",
       "        vertical-align: top;\n",
       "    }\n",
       "\n",
       "    .dataframe thead th {\n",
       "        text-align: right;\n",
       "    }\n",
       "</style>\n",
       "<table border=\"1\" class=\"dataframe\">\n",
       "  <thead>\n",
       "    <tr style=\"text-align: right;\">\n",
       "      <th></th>\n",
       "      <th>DN</th>\n",
       "      <th>geometry</th>\n",
       "    </tr>\n",
       "  </thead>\n",
       "  <tbody>\n",
       "    <tr>\n",
       "      <th>0</th>\n",
       "      <td>2</td>\n",
       "      <td>POLYGON ((-83.2 9.666666668, -83.1916666670000...</td>\n",
       "    </tr>\n",
       "    <tr>\n",
       "      <th>1</th>\n",
       "      <td>1</td>\n",
       "      <td>POLYGON ((-79.56666681199999 9.641666668999999...</td>\n",
       "    </tr>\n",
       "    <tr>\n",
       "      <th>2</th>\n",
       "      <td>0</td>\n",
       "      <td>POLYGON ((-82.55000002600001 9.566666671999998...</td>\n",
       "    </tr>\n",
       "    <tr>\n",
       "      <th>3</th>\n",
       "      <td>0</td>\n",
       "      <td>POLYGON ((-82.51666669400001 9.533333339999999...</td>\n",
       "    </tr>\n",
       "    <tr>\n",
       "      <th>4</th>\n",
       "      <td>2</td>\n",
       "      <td>POLYGON ((-83.19166666700001 9.575000005, -83....</td>\n",
       "    </tr>\n",
       "    <tr>\n",
       "      <th>5</th>\n",
       "      <td>0</td>\n",
       "      <td>POLYGON ((-82.49166669500001 9.516666674, -82....</td>\n",
       "    </tr>\n",
       "    <tr>\n",
       "      <th>6</th>\n",
       "      <td>0</td>\n",
       "      <td>POLYGON ((-82.525000027 9.491666674999999, -82...</td>\n",
       "    </tr>\n",
       "    <tr>\n",
       "      <th>7</th>\n",
       "      <td>0</td>\n",
       "      <td>POLYGON ((-82.500000028 9.491666674999999, -82...</td>\n",
       "    </tr>\n",
       "    <tr>\n",
       "      <th>8</th>\n",
       "      <td>0</td>\n",
       "      <td>POLYGON ((-82.425000031 9.458333343, -82.41666...</td>\n",
       "    </tr>\n",
       "    <tr>\n",
       "      <th>9</th>\n",
       "      <td>2</td>\n",
       "      <td>POLYGON ((-82.941666677 9.441666676999999, -82...</td>\n",
       "    </tr>\n",
       "    <tr>\n",
       "      <th>10</th>\n",
       "      <td>0</td>\n",
       "      <td>POLYGON ((-82.266666704 9.441666676999999, -82...</td>\n",
       "    </tr>\n",
       "    <tr>\n",
       "      <th>11</th>\n",
       "      <td>0</td>\n",
       "      <td>POLYGON ((-82.941666677 9.433333343999999, -82...</td>\n",
       "    </tr>\n",
       "    <tr>\n",
       "      <th>12</th>\n",
       "      <td>2</td>\n",
       "      <td>POLYGON ((-82.791666683 9.416666677999999, -82...</td>\n",
       "    </tr>\n",
       "    <tr>\n",
       "      <th>13</th>\n",
       "      <td>0</td>\n",
       "      <td>POLYGON ((-82.908333345 9.400000012, -82.90000...</td>\n",
       "    </tr>\n",
       "    <tr>\n",
       "      <th>14</th>\n",
       "      <td>0</td>\n",
       "      <td>POLYGON ((-79.825000135 9.400000012, -79.81666...</td>\n",
       "    </tr>\n",
       "    <tr>\n",
       "      <th>15</th>\n",
       "      <td>1</td>\n",
       "      <td>POLYGON ((-82.291666703 9.441666676999999, -82...</td>\n",
       "    </tr>\n",
       "    <tr>\n",
       "      <th>16</th>\n",
       "      <td>2</td>\n",
       "      <td>POLYGON ((-83.2 9.400000012, -83.1916666670000...</td>\n",
       "    </tr>\n",
       "    <tr>\n",
       "      <th>17</th>\n",
       "      <td>0</td>\n",
       "      <td>POLYGON ((-83.19166666700001 9.383333345999999...</td>\n",
       "    </tr>\n",
       "    <tr>\n",
       "      <th>18</th>\n",
       "      <td>0</td>\n",
       "      <td>POLYGON ((-83.000000008 9.375000012999999, -82...</td>\n",
       "    </tr>\n",
       "    <tr>\n",
       "      <th>19</th>\n",
       "      <td>0</td>\n",
       "      <td>POLYGON ((-82.95833334300001 9.358333346999999...</td>\n",
       "    </tr>\n",
       "    <tr>\n",
       "      <th>20</th>\n",
       "      <td>1</td>\n",
       "      <td>POLYGON ((-82.233333372 9.358333346999999, -82...</td>\n",
       "    </tr>\n",
       "    <tr>\n",
       "      <th>21</th>\n",
       "      <td>1</td>\n",
       "      <td>POLYGON ((-82.95833334300001 9.350000013999999...</td>\n",
       "    </tr>\n",
       "    <tr>\n",
       "      <th>22</th>\n",
       "      <td>0</td>\n",
       "      <td>POLYGON ((-82.250000038 9.350000013999999, -82...</td>\n",
       "    </tr>\n",
       "    <tr>\n",
       "      <th>23</th>\n",
       "      <td>0</td>\n",
       "      <td>POLYGON ((-82.125000043 9.325000014999999, -82...</td>\n",
       "    </tr>\n",
       "    <tr>\n",
       "      <th>24</th>\n",
       "      <td>0</td>\n",
       "      <td>POLYGON ((-82.208333373 9.316666681999999, -82...</td>\n",
       "    </tr>\n",
       "    <tr>\n",
       "      <th>25</th>\n",
       "      <td>0</td>\n",
       "      <td>POLYGON ((-82.16666670800001 9.316666681999999...</td>\n",
       "    </tr>\n",
       "    <tr>\n",
       "      <th>26</th>\n",
       "      <td>1</td>\n",
       "      <td>POLYGON ((-82.891666679 9.308333349, -82.88333...</td>\n",
       "    </tr>\n",
       "    <tr>\n",
       "      <th>27</th>\n",
       "      <td>0</td>\n",
       "      <td>POLYGON ((-82.20000004000001 9.300000015999998...</td>\n",
       "    </tr>\n",
       "    <tr>\n",
       "      <th>28</th>\n",
       "      <td>1</td>\n",
       "      <td>POLYGON ((-82.175000041 9.291666682999999, -82...</td>\n",
       "    </tr>\n",
       "    <tr>\n",
       "      <th>29</th>\n",
       "      <td>0</td>\n",
       "      <td>POLYGON ((-82.183333374 9.266666683999999, -82...</td>\n",
       "    </tr>\n",
       "    <tr>\n",
       "      <th>...</th>\n",
       "      <td>...</td>\n",
       "      <td>...</td>\n",
       "    </tr>\n",
       "    <tr>\n",
       "      <th>216</th>\n",
       "      <td>2</td>\n",
       "      <td>POLYGON ((-78.216666866 7.708333412999999, -78...</td>\n",
       "    </tr>\n",
       "    <tr>\n",
       "      <th>217</th>\n",
       "      <td>1</td>\n",
       "      <td>POLYGON ((-81.633333396 7.700000079999999, -81...</td>\n",
       "    </tr>\n",
       "    <tr>\n",
       "      <th>218</th>\n",
       "      <td>2</td>\n",
       "      <td>POLYGON ((-78.158333535 7.750000077999999, -78...</td>\n",
       "    </tr>\n",
       "    <tr>\n",
       "      <th>219</th>\n",
       "      <td>2</td>\n",
       "      <td>POLYGON ((-78.041666873 7.675000080999999, -78...</td>\n",
       "    </tr>\n",
       "    <tr>\n",
       "      <th>220</th>\n",
       "      <td>1</td>\n",
       "      <td>POLYGON ((-81.35000007400001 7.658333415, -81....</td>\n",
       "    </tr>\n",
       "    <tr>\n",
       "      <th>221</th>\n",
       "      <td>1</td>\n",
       "      <td>POLYGON ((-81.708333393 7.650000081999999, -81...</td>\n",
       "    </tr>\n",
       "    <tr>\n",
       "      <th>222</th>\n",
       "      <td>1</td>\n",
       "      <td>POLYGON ((-80.000000128 7.633333415999999, -79...</td>\n",
       "    </tr>\n",
       "    <tr>\n",
       "      <th>223</th>\n",
       "      <td>2</td>\n",
       "      <td>POLYGON ((-77.708333553 7.975000068999999, -77...</td>\n",
       "    </tr>\n",
       "    <tr>\n",
       "      <th>224</th>\n",
       "      <td>2</td>\n",
       "      <td>POLYGON ((-78.01666687399999 7.583333417999999...</td>\n",
       "    </tr>\n",
       "    <tr>\n",
       "      <th>225</th>\n",
       "      <td>1</td>\n",
       "      <td>POLYGON ((-81.216666746 7.575000084999999, -81...</td>\n",
       "    </tr>\n",
       "    <tr>\n",
       "      <th>226</th>\n",
       "      <td>2</td>\n",
       "      <td>POLYGON ((-78.000000208 7.550000085999999, -77...</td>\n",
       "    </tr>\n",
       "    <tr>\n",
       "      <th>227</th>\n",
       "      <td>2</td>\n",
       "      <td>POLYGON ((-77.52500022700001 7.600000083999999...</td>\n",
       "    </tr>\n",
       "    <tr>\n",
       "      <th>228</th>\n",
       "      <td>2</td>\n",
       "      <td>POLYGON ((-77.983333542 7.633333415999999, -77...</td>\n",
       "    </tr>\n",
       "    <tr>\n",
       "      <th>229</th>\n",
       "      <td>1</td>\n",
       "      <td>POLYGON ((-81.108333417 7.583333417999999, -81...</td>\n",
       "    </tr>\n",
       "    <tr>\n",
       "      <th>230</th>\n",
       "      <td>2</td>\n",
       "      <td>POLYGON ((-80.716666766 7.500000087999999, -80...</td>\n",
       "    </tr>\n",
       "    <tr>\n",
       "      <th>231</th>\n",
       "      <td>2</td>\n",
       "      <td>POLYGON ((-77.916666878 7.500000087999999, -77...</td>\n",
       "    </tr>\n",
       "    <tr>\n",
       "      <th>232</th>\n",
       "      <td>1</td>\n",
       "      <td>POLYGON ((-82.241666705 7.483333421999999, -82...</td>\n",
       "    </tr>\n",
       "    <tr>\n",
       "      <th>233</th>\n",
       "      <td>2</td>\n",
       "      <td>POLYGON ((-77.925000211 7.475000089, -77.91666...</td>\n",
       "    </tr>\n",
       "    <tr>\n",
       "      <th>234</th>\n",
       "      <td>2</td>\n",
       "      <td>POLYGON ((-80.633333436 7.358333427, -80.62500...</td>\n",
       "    </tr>\n",
       "    <tr>\n",
       "      <th>235</th>\n",
       "      <td>2</td>\n",
       "      <td>POLYGON ((-80.658333435 7.333333428, -80.65000...</td>\n",
       "    </tr>\n",
       "    <tr>\n",
       "      <th>236</th>\n",
       "      <td>1</td>\n",
       "      <td>POLYGON ((-81.750000058 7.650000081999999, -81...</td>\n",
       "    </tr>\n",
       "    <tr>\n",
       "      <th>237</th>\n",
       "      <td>2</td>\n",
       "      <td>POLYGON ((-80.758333431 7.341666760999999, -80...</td>\n",
       "    </tr>\n",
       "    <tr>\n",
       "      <th>238</th>\n",
       "      <td>2</td>\n",
       "      <td>POLYGON ((-80.691666767 7.366666759999999, -80...</td>\n",
       "    </tr>\n",
       "    <tr>\n",
       "      <th>239</th>\n",
       "      <td>2</td>\n",
       "      <td>POLYGON ((-80.758333431 7.308333428999999, -80...</td>\n",
       "    </tr>\n",
       "    <tr>\n",
       "      <th>240</th>\n",
       "      <td>2</td>\n",
       "      <td>POLYGON ((-80.78333343 7.291666762999999, -80....</td>\n",
       "    </tr>\n",
       "    <tr>\n",
       "      <th>241</th>\n",
       "      <td>2</td>\n",
       "      <td>POLYGON ((-80.775000097 7.283333429999999, -80...</td>\n",
       "    </tr>\n",
       "    <tr>\n",
       "      <th>242</th>\n",
       "      <td>1</td>\n",
       "      <td>POLYGON ((-81.825000055 7.291666762999999, -81...</td>\n",
       "    </tr>\n",
       "    <tr>\n",
       "      <th>243</th>\n",
       "      <td>1</td>\n",
       "      <td>POLYGON ((-81.808333389 7.225000098999999, -81...</td>\n",
       "    </tr>\n",
       "    <tr>\n",
       "      <th>244</th>\n",
       "      <td>1</td>\n",
       "      <td>POLYGON ((-81.800000056 7.216666765999999, -81...</td>\n",
       "    </tr>\n",
       "    <tr>\n",
       "      <th>245</th>\n",
       "      <td>1</td>\n",
       "      <td>POLYGON ((-83.2 9.699999999999999, -82.8000000...</td>\n",
       "    </tr>\n",
       "  </tbody>\n",
       "</table>\n",
       "<p>246 rows × 2 columns</p>\n",
       "</div>"
      ],
      "text/plain": [
       "     DN                                           geometry\n",
       "0     2  POLYGON ((-83.2 9.666666668, -83.1916666670000...\n",
       "1     1  POLYGON ((-79.56666681199999 9.641666668999999...\n",
       "2     0  POLYGON ((-82.55000002600001 9.566666671999998...\n",
       "3     0  POLYGON ((-82.51666669400001 9.533333339999999...\n",
       "4     2  POLYGON ((-83.19166666700001 9.575000005, -83....\n",
       "5     0  POLYGON ((-82.49166669500001 9.516666674, -82....\n",
       "6     0  POLYGON ((-82.525000027 9.491666674999999, -82...\n",
       "7     0  POLYGON ((-82.500000028 9.491666674999999, -82...\n",
       "8     0  POLYGON ((-82.425000031 9.458333343, -82.41666...\n",
       "9     2  POLYGON ((-82.941666677 9.441666676999999, -82...\n",
       "10    0  POLYGON ((-82.266666704 9.441666676999999, -82...\n",
       "11    0  POLYGON ((-82.941666677 9.433333343999999, -82...\n",
       "12    2  POLYGON ((-82.791666683 9.416666677999999, -82...\n",
       "13    0  POLYGON ((-82.908333345 9.400000012, -82.90000...\n",
       "14    0  POLYGON ((-79.825000135 9.400000012, -79.81666...\n",
       "15    1  POLYGON ((-82.291666703 9.441666676999999, -82...\n",
       "16    2  POLYGON ((-83.2 9.400000012, -83.1916666670000...\n",
       "17    0  POLYGON ((-83.19166666700001 9.383333345999999...\n",
       "18    0  POLYGON ((-83.000000008 9.375000012999999, -82...\n",
       "19    0  POLYGON ((-82.95833334300001 9.358333346999999...\n",
       "20    1  POLYGON ((-82.233333372 9.358333346999999, -82...\n",
       "21    1  POLYGON ((-82.95833334300001 9.350000013999999...\n",
       "22    0  POLYGON ((-82.250000038 9.350000013999999, -82...\n",
       "23    0  POLYGON ((-82.125000043 9.325000014999999, -82...\n",
       "24    0  POLYGON ((-82.208333373 9.316666681999999, -82...\n",
       "25    0  POLYGON ((-82.16666670800001 9.316666681999999...\n",
       "26    1  POLYGON ((-82.891666679 9.308333349, -82.88333...\n",
       "27    0  POLYGON ((-82.20000004000001 9.300000015999998...\n",
       "28    1  POLYGON ((-82.175000041 9.291666682999999, -82...\n",
       "29    0  POLYGON ((-82.183333374 9.266666683999999, -82...\n",
       "..   ..                                                ...\n",
       "216   2  POLYGON ((-78.216666866 7.708333412999999, -78...\n",
       "217   1  POLYGON ((-81.633333396 7.700000079999999, -81...\n",
       "218   2  POLYGON ((-78.158333535 7.750000077999999, -78...\n",
       "219   2  POLYGON ((-78.041666873 7.675000080999999, -78...\n",
       "220   1  POLYGON ((-81.35000007400001 7.658333415, -81....\n",
       "221   1  POLYGON ((-81.708333393 7.650000081999999, -81...\n",
       "222   1  POLYGON ((-80.000000128 7.633333415999999, -79...\n",
       "223   2  POLYGON ((-77.708333553 7.975000068999999, -77...\n",
       "224   2  POLYGON ((-78.01666687399999 7.583333417999999...\n",
       "225   1  POLYGON ((-81.216666746 7.575000084999999, -81...\n",
       "226   2  POLYGON ((-78.000000208 7.550000085999999, -77...\n",
       "227   2  POLYGON ((-77.52500022700001 7.600000083999999...\n",
       "228   2  POLYGON ((-77.983333542 7.633333415999999, -77...\n",
       "229   1  POLYGON ((-81.108333417 7.583333417999999, -81...\n",
       "230   2  POLYGON ((-80.716666766 7.500000087999999, -80...\n",
       "231   2  POLYGON ((-77.916666878 7.500000087999999, -77...\n",
       "232   1  POLYGON ((-82.241666705 7.483333421999999, -82...\n",
       "233   2  POLYGON ((-77.925000211 7.475000089, -77.91666...\n",
       "234   2  POLYGON ((-80.633333436 7.358333427, -80.62500...\n",
       "235   2  POLYGON ((-80.658333435 7.333333428, -80.65000...\n",
       "236   1  POLYGON ((-81.750000058 7.650000081999999, -81...\n",
       "237   2  POLYGON ((-80.758333431 7.341666760999999, -80...\n",
       "238   2  POLYGON ((-80.691666767 7.366666759999999, -80...\n",
       "239   2  POLYGON ((-80.758333431 7.308333428999999, -80...\n",
       "240   2  POLYGON ((-80.78333343 7.291666762999999, -80....\n",
       "241   2  POLYGON ((-80.775000097 7.283333429999999, -80...\n",
       "242   1  POLYGON ((-81.825000055 7.291666762999999, -81...\n",
       "243   1  POLYGON ((-81.808333389 7.225000098999999, -81...\n",
       "244   1  POLYGON ((-81.800000056 7.216666765999999, -81...\n",
       "245   1  POLYGON ((-83.2 9.699999999999999, -82.8000000...\n",
       "\n",
       "[246 rows x 2 columns]"
      ]
     },
     "execution_count": 39,
     "metadata": {},
     "output_type": "execute_result"
    }
   ],
   "source": [
    "shp"
   ]
  }
 ],
 "metadata": {
  "kernelspec": {
   "display_name": "Python 3",
   "language": "python",
   "name": "python3"
  },
  "language_info": {
   "codemirror_mode": {
    "name": "ipython",
    "version": 3
   },
   "file_extension": ".py",
   "mimetype": "text/x-python",
   "name": "python",
   "nbconvert_exporter": "python",
   "pygments_lexer": "ipython3",
   "version": "3.6.8"
  }
 },
 "nbformat": 4,
 "nbformat_minor": 2
}
